{
 "metadata": {
  "language_info": {
   "codemirror_mode": {
    "name": "ipython",
    "version": 3
   },
   "file_extension": ".py",
   "mimetype": "text/x-python",
   "name": "python",
   "nbconvert_exporter": "python",
   "pygments_lexer": "ipython3",
   "version": "3.7.9"
  },
  "orig_nbformat": 4,
  "kernelspec": {
   "name": "python3",
   "display_name": "Python 3.7.9 64-bit ('base': conda)"
  },
  "interpreter": {
   "hash": "5755ec1566e30e8b84a1ef2f88633a75e407c96225f4120aea830f4ccafa955d"
  }
 },
 "nbformat": 4,
 "nbformat_minor": 2,
 "cells": [
  {
   "cell_type": "code",
   "execution_count": 1,
   "metadata": {},
   "outputs": [],
   "source": [
    "import PIL\n",
    "from PIL import Image\n",
    "import os\n",
    "import glob\n",
    "import urllib.request\n",
    "import json\n",
    "\n",
    "\n",
    "# Adding information about user agent\n",
    "opener=urllib.request.build_opener()\n",
    "opener.addheaders=[('User-Agent','Mozilla/5.0 (Windows NT 6.1; WOW64) AppleWebKit/537.36 (KHTML, like Gecko) Chrome/36.0.1941.0 Safari/537.36')]\n",
    "urllib.request.install_opener(opener)\n",
    "\n"
   ]
  },
  {
   "cell_type": "code",
   "execution_count": 25,
   "metadata": {
    "tags": []
   },
   "outputs": [],
   "source": [
    "urlData = \"https://api.unsplash.com/photos/random?content_filter=high&count=30&client_id=https://api.unsplash.com/photos/random?content_filter=high&count=20&client_id=iUjrzj1dVUdD-eEJtYbmsgqz-9wY0pjQ3Wjwg0uijNg\"\n",
    "#urlData = 'https://jsonplaceholder.typicode.com/posts'\n",
    "webURL = urllib.request.urlopen(urlData)\n",
    "res = webURL.read()\n",
    "data = json.loads(res)\n",
    "urlArray= []\n",
    "for item in data:\n",
    "    urlArray.append(item[\"urls\"][\"regular\"])\n",
    "f = open('backup.txt', \"w\")\n",
    "f.write(','.join(str(e) for e in urlArray))\n",
    "f.close()\n"
   ]
  },
  {
   "cell_type": "code",
   "execution_count": 28,
   "metadata": {},
   "outputs": [
    {
     "output_type": "stream",
     "name": "stdout",
     "text": [
      "['https://images.unsplash.com/photo-1515544441366-a720e2198ac4?crop=entropy&cs=tinysrgb&fit=max&fm=jpg&ixid=MnwyNDU0NzF8MHwxfHJhbmRvbXx8fHx8fHx8fDE2MjU4NzY3MzU&ixlib=rb-1.2.1&q=80&w=1080', 'https://images.unsplash.com/photo-1586421562752-648b574d71cc?crop=entropy&cs=tinysrgb&fit=max&fm=jpg&ixid=MnwyNDU0NzF8MHwxfHJhbmRvbXx8fHx8fHx8fDE2MjU4NzY3MzU&ixlib=rb-1.2.1&q=80&w=1080', 'https://images.unsplash.com/photo-1611097312802-2da90f9c53cc?crop=entropy&cs=tinysrgb&fit=max&fm=jpg&ixid=MnwyNDU0NzF8MHwxfHJhbmRvbXx8fHx8fHx8fDE2MjU4NzY3MzU&ixlib=rb-1.2.1&q=80&w=1080', 'https://images.unsplash.com/photo-1614862977338-ede314f47a00?crop=entropy&cs=tinysrgb&fit=max&fm=jpg&ixid=MnwyNDU0NzF8MHwxfHJhbmRvbXx8fHx8fHx8fDE2MjU4NzY3MzU&ixlib=rb-1.2.1&q=80&w=1080', 'https://images.unsplash.com/photo-1622601326868-761fff26a7ac?crop=entropy&cs=tinysrgb&fit=max&fm=jpg&ixid=MnwyNDU0NzF8MHwxfHJhbmRvbXx8fHx8fHx8fDE2MjU4NzY3MzU&ixlib=rb-1.2.1&q=80&w=1080', 'https://images.unsplash.com/photo-1623113611964-19795ff965bb?crop=entropy&cs=tinysrgb&fit=max&fm=jpg&ixid=MnwyNDU0NzF8MHwxfHJhbmRvbXx8fHx8fHx8fDE2MjU4NzY3MzU&ixlib=rb-1.2.1&q=80&w=1080', 'https://images.unsplash.com/photo-1623194537724-fc018d442103?crop=entropy&cs=tinysrgb&fit=max&fm=jpg&ixid=MnwyNDU0NzF8MHwxfHJhbmRvbXx8fHx8fHx8fDE2MjU4NzY3MzU&ixlib=rb-1.2.1&q=80&w=1080', 'https://images.unsplash.com/photo-1623325225679-64b0ba4f5248?crop=entropy&cs=tinysrgb&fit=max&fm=jpg&ixid=MnwyNDU0NzF8MHwxfHJhbmRvbXx8fHx8fHx8fDE2MjU4NzY3MzU&ixlib=rb-1.2.1&q=80&w=1080', 'https://images.unsplash.com/photo-1623424260297-ff1d17f5848a?crop=entropy&cs=tinysrgb&fit=max&fm=jpg&ixid=MnwyNDU0NzF8MHwxfHJhbmRvbXx8fHx8fHx8fDE2MjU4NzY3MzU&ixlib=rb-1.2.1&q=80&w=1080', 'https://images.unsplash.com/photo-1623523900621-b96438ecf836?crop=entropy&cs=tinysrgb&fit=max&fm=jpg&ixid=MnwyNDU0NzF8MHwxfHJhbmRvbXx8fHx8fHx8fDE2MjU4NzY3MzU&ixlib=rb-1.2.1&q=80&w=1080', 'https://images.unsplash.com/photo-1623596627064-bbd32c626478?crop=entropy&cs=tinysrgb&fit=max&fm=jpg&ixid=MnwyNDU0NzF8MHwxfHJhbmRvbXx8fHx8fHx8fDE2MjU4NzY3MzU&ixlib=rb-1.2.1&q=80&w=1080', 'https://images.unsplash.com/photo-1624279205531-4d7e89171d50?crop=entropy&cs=tinysrgb&fit=max&fm=jpg&ixid=MnwyNDU0NzF8MHwxfHJhbmRvbXx8fHx8fHx8fDE2MjU4NzY3MzU&ixlib=rb-1.2.1&q=80&w=1080', 'https://images.unsplash.com/photo-1624369172577-241ab0533d0d?crop=entropy&cs=tinysrgb&fit=max&fm=jpg&ixid=MnwyNDU0NzF8MHwxfHJhbmRvbXx8fHx8fHx8fDE2MjU4NzY3MzU&ixlib=rb-1.2.1&q=80&w=1080', 'https://images.unsplash.com/photo-1624403856281-fff266f81645?crop=entropy&cs=tinysrgb&fit=max&fm=jpg&ixid=MnwyNDU0NzF8MHwxfHJhbmRvbXx8fHx8fHx8fDE2MjU4NzY3MzU&ixlib=rb-1.2.1&q=80&w=1080', 'https://images.unsplash.com/photo-1624417180800-5b9132d9a563?crop=entropy&cs=tinysrgb&fit=max&fm=jpg&ixid=MnwyNDU0NzF8MHwxfHJhbmRvbXx8fHx8fHx8fDE2MjU4NzY3MzU&ixlib=rb-1.2.1&q=80&w=1080', 'https://images.unsplash.com/photo-1624429062534-3206f9780d45?crop=entropy&cs=tinysrgb&fit=max&fm=jpg&ixid=MnwyNDU0NzF8MHwxfHJhbmRvbXx8fHx8fHx8fDE2MjU4NzY3MzU&ixlib=rb-1.2.1&q=80&w=1080', 'https://images.unsplash.com/photo-1624467014569-ef9088c238b7?crop=entropy&cs=tinysrgb&fit=max&fm=jpg&ixid=MnwyNDU0NzF8MHwxfHJhbmRvbXx8fHx8fHx8fDE2MjU4NzY3MzU&ixlib=rb-1.2.1&q=80&w=1080', 'https://images.unsplash.com/photo-1624475164100-0b54ffdd3390?crop=entropy&cs=tinysrgb&fit=max&fm=jpg&ixid=MnwyNDU0NzF8MHwxfHJhbmRvbXx8fHx8fHx8fDE2MjU4NzY3MzU&ixlib=rb-1.2.1&q=80&w=1080', 'https://images.unsplash.com/photo-1624486747572-c6b09ed0d256?crop=entropy&cs=tinysrgb&fit=max&fm=jpg&ixid=MnwyNDU0NzF8MHwxfHJhbmRvbXx8fHx8fHx8fDE2MjU4NzY3MzU&ixlib=rb-1.2.1&q=80&w=1080', 'https://images.unsplash.com/photo-1624553906016-302815170575?crop=entropy&cs=tinysrgb&fit=max&fm=jpg&ixid=MnwyNDU0NzF8MHwxfHJhbmRvbXx8fHx8fHx8fDE2MjU4NzY3MzU&ixlib=rb-1.2.1&q=80&w=1080', 'https://images.unsplash.com/photo-1624554925319-e2c54b8e2f9a?crop=entropy&cs=tinysrgb&fit=max&fm=jpg&ixid=MnwyNDU0NzF8MHwxfHJhbmRvbXx8fHx8fHx8fDE2MjU4NzY3MzU&ixlib=rb-1.2.1&q=80&w=1080', 'https://images.unsplash.com/photo-1624649679231-859293395b19?crop=entropy&cs=tinysrgb&fit=max&fm=jpg&ixid=MnwyNDU0NzF8MHwxfHJhbmRvbXx8fHx8fHx8fDE2MjU4NzY3MzU&ixlib=rb-1.2.1&q=80&w=1080', 'https://images.unsplash.com/photo-1624689546507-74b6733b57c9?crop=entropy&cs=tinysrgb&fit=max&fm=jpg&ixid=MnwyNDU0NzF8MHwxfHJhbmRvbXx8fHx8fHx8fDE2MjU4NzY3MzU&ixlib=rb-1.2.1&q=80&w=1080', 'https://images.unsplash.com/photo-1624959941038-d41bb4dd567f?crop=entropy&cs=tinysrgb&fit=max&fm=jpg&ixid=MnwyNDU0NzF8MHwxfHJhbmRvbXx8fHx8fHx8fDE2MjU4NzY3MzU&ixlib=rb-1.2.1&q=80&w=1080', 'https://images.unsplash.com/photo-1625008204595-e5401f061c7b?crop=entropy&cs=tinysrgb&fit=max&fm=jpg&ixid=MnwyNDU0NzF8MHwxfHJhbmRvbXx8fHx8fHx8fDE2MjU4NzY3MzU&ixlib=rb-1.2.1&q=80&w=1080', 'https://images.unsplash.com/photo-1625153655600-7dd42a1ffbe7?crop=entropy&cs=tinysrgb&fit=max&fm=jpg&ixid=MnwyNDU0NzF8MHwxfHJhbmRvbXx8fHx8fHx8fDE2MjU4NzY3MzU&ixlib=rb-1.2.1&q=80&w=1080', 'https://images.unsplash.com/photo-1625171515821-1870deb2743b?crop=entropy&cs=tinysrgb&fit=max&fm=jpg&ixid=MnwyNDU0NzF8MHwxfHJhbmRvbXx8fHx8fHx8fDE2MjU4NzY3MzU&ixlib=rb-1.2.1&q=80&w=1080', 'https://images.unsplash.com/photo-1625406736542-726dde6f8561?crop=entropy&cs=tinysrgb&fit=max&fm=jpg&ixid=MnwyNDU0NzF8MHwxfHJhbmRvbXx8fHx8fHx8fDE2MjU4NzY3MzU&ixlib=rb-1.2.1&q=80&w=1080', 'https://images.unsplash.com/photo-1625425727345-d8423ee9a4fd?crop=entropy&cs=tinysrgb&fit=max&fm=jpg&ixid=MnwyNDU0NzF8MHwxfHJhbmRvbXx8fHx8fHx8fDE2MjU4NzY3MzU&ixlib=rb-1.2.1&q=80&w=1080', 'https://images.unsplash.com/photo-1625516266256-b520e343e5f0?crop=entropy&cs=tinysrgb&fit=max&fm=jpg&ixid=MnwyNDU0NzF8MHwxfHJhbmRvbXx8fHx8fHx8fDE2MjU4NzY3MzU&ixlib=rb-1.2.1&q=80&w=1080']\n30\n"
     ]
    }
   ],
   "source": [
    "with open('backup.txt') as f:\n",
    "    contents = f.read()\n",
    "    urlArray = contents.split(',')\n",
    "    #print(contents)\n",
    "    f.close \n",
    "#print(urlArray)\n",
    "#print(len(urlArray))\n"
   ]
  },
  {
   "cell_type": "code",
   "execution_count": 29,
   "metadata": {},
   "outputs": [],
   "source": [
    "n = 70\n",
    "for index, image in enumerate(urlArray):\n",
    "    f = f\"{n+index}.jpeg\"\n",
    "    #print(f)\n",
    "    urllib.request.urlretrieve(urlArray[index], f)\n",
    "\n",
    "def processing_images(desired_width):\n",
    "    for index, item in enumerate(urlArray):\n",
    "        image = Image.open(f'{n+index}.jpeg')\n",
    "        aspect_ratio = (image.size[0]/float(image.size[1]))\n",
    "        newHeight = int(desired_width/aspect_ratio)\n",
    "        resized_image = image.resize((desired_width, newHeight), PIL.Image.NEAREST)\n",
    "        resized_image.save(f'{n+index}-{desired_width}.jpeg')\n",
    "\n",
    "processing_images(500)\n",
    "processing_images(1000)\n",
    "processing_images(1500)\n"
   ]
  },
  {
   "cell_type": "code",
   "execution_count": 6,
   "metadata": {},
   "outputs": [
    {
     "output_type": "error",
     "ename": "KeyError",
     "evalue": "'WEBP'",
     "traceback": [
      "\u001b[0;31m---------------------------------------------------------------------------\u001b[0m",
      "\u001b[0;31mKeyError\u001b[0m                                  Traceback (most recent call last)",
      "\u001b[0;32m<ipython-input-6-3d7c9d806216>\u001b[0m in \u001b[0;36m<module>\u001b[0;34m\u001b[0m\n\u001b[1;32m      3\u001b[0m \u001b[0mimage\u001b[0m \u001b[0;34m=\u001b[0m \u001b[0mImage\u001b[0m\u001b[0;34m.\u001b[0m\u001b[0mopen\u001b[0m\u001b[0;34m(\u001b[0m\u001b[0;34m'0-500.jpeg'\u001b[0m\u001b[0;34m)\u001b[0m\u001b[0;34m.\u001b[0m\u001b[0mconvert\u001b[0m\u001b[0;34m(\u001b[0m\u001b[0;34m\"RGB\"\u001b[0m\u001b[0;34m)\u001b[0m\u001b[0;34m\u001b[0m\u001b[0;34m\u001b[0m\u001b[0m\n\u001b[1;32m      4\u001b[0m \u001b[0;34m\u001b[0m\u001b[0m\n\u001b[0;32m----> 5\u001b[0;31m \u001b[0mimage\u001b[0m\u001b[0;34m.\u001b[0m\u001b[0msave\u001b[0m\u001b[0;34m(\u001b[0m\u001b[0;34mf'{path}/1.webp'\u001b[0m\u001b[0;34m,\u001b[0m \u001b[0;34m\"WEBP\"\u001b[0m\u001b[0;34m)\u001b[0m\u001b[0;34m\u001b[0m\u001b[0;34m\u001b[0m\u001b[0m\n\u001b[0m",
      "\u001b[0;32m~/opt/anaconda3/lib/python3.7/site-packages/PIL/Image.py\u001b[0m in \u001b[0;36msave\u001b[0;34m(self, fp, format, **params)\u001b[0m\n\u001b[1;32m   2138\u001b[0m             \u001b[0msave_handler\u001b[0m \u001b[0;34m=\u001b[0m \u001b[0mSAVE_ALL\u001b[0m\u001b[0;34m[\u001b[0m\u001b[0mformat\u001b[0m\u001b[0;34m.\u001b[0m\u001b[0mupper\u001b[0m\u001b[0;34m(\u001b[0m\u001b[0;34m)\u001b[0m\u001b[0;34m]\u001b[0m\u001b[0;34m\u001b[0m\u001b[0;34m\u001b[0m\u001b[0m\n\u001b[1;32m   2139\u001b[0m         \u001b[0;32melse\u001b[0m\u001b[0;34m:\u001b[0m\u001b[0;34m\u001b[0m\u001b[0;34m\u001b[0m\u001b[0m\n\u001b[0;32m-> 2140\u001b[0;31m             \u001b[0msave_handler\u001b[0m \u001b[0;34m=\u001b[0m \u001b[0mSAVE\u001b[0m\u001b[0;34m[\u001b[0m\u001b[0mformat\u001b[0m\u001b[0;34m.\u001b[0m\u001b[0mupper\u001b[0m\u001b[0;34m(\u001b[0m\u001b[0;34m)\u001b[0m\u001b[0;34m]\u001b[0m\u001b[0;34m\u001b[0m\u001b[0;34m\u001b[0m\u001b[0m\n\u001b[0m\u001b[1;32m   2141\u001b[0m \u001b[0;34m\u001b[0m\u001b[0m\n\u001b[1;32m   2142\u001b[0m         \u001b[0;32mif\u001b[0m \u001b[0mopen_fp\u001b[0m\u001b[0;34m:\u001b[0m\u001b[0;34m\u001b[0m\u001b[0;34m\u001b[0m\u001b[0m\n",
      "\u001b[0;31mKeyError\u001b[0m: 'WEBP'"
     ]
    }
   ],
   "source": [
    "cwd = os.getcwd()\n",
    "path = cwd+\"/client/public/processing_images\"\n",
    "image = Image.open('0-500.jpeg').convert(\"RGB\")\n",
    "\n",
    "image.save(f'{path}/1.webp', \"WEBP\")"
   ]
  },
  {
   "cell_type": "code",
   "execution_count": null,
   "metadata": {},
   "outputs": [],
   "source": []
  }
 ]
}